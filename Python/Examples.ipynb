{
 "cells": [
  {
   "cell_type": "code",
   "execution_count": 1,
   "metadata": {
    "vscode": {
     "languageId": "bat"
    }
   },
   "outputs": [],
   "source": [
    "# Load the \"autoreload\" extension so that code can change\n",
    "%load_ext autoreload\n",
    "\n",
    "# Always reload modules so that as you change code in src, it gets loaded\n",
    "%autoreload 2\n"
   ]
  },
  {
   "cell_type": "code",
   "execution_count": null,
   "metadata": {
    "vscode": {
     "languageId": "bat"
    }
   },
   "outputs": [],
   "source": [
    "\n",
    "pip install -r requirements.txt"
   ]
  },
  {
   "cell_type": "code",
   "execution_count": null,
   "metadata": {
    "vscode": {
     "languageId": "bat"
    }
   },
   "outputs": [],
   "source": [
    "from dotenv import load_dotenv\n",
    "load_dotenv()"
   ]
  },
  {
   "cell_type": "code",
   "execution_count": null,
   "metadata": {},
   "outputs": [],
   "source": [
    "\n",
    "\n",
    "from Auth.MsalClientAuthenticator import MsalClientAuthenticator\n",
    "\n",
    "CLIENT_ID = os.environ.get('CLIENT_ID')\n",
    "TENANT_ID = os.environ.get('TENANT_ID')\n",
    "SECRET = os.environ.get('CLIENT_SECRET')\n",
    "SCOPESC = [os.environ.get('SCOPE_DEFAULT')]\n",
    "\n",
    "authenticator = MsalClientAuthenticator(CLIENT_ID, TENANT_ID, SECRET, SCOPESC)\n",
    "try:\n",
    "    token = authenticator.GetAuthtoken()\n",
    "    print(\"Token acquired:\", token)\n",
    "except Exception as e:\n",
    "    print(str(e))\n"
   ]
  },
  {
   "cell_type": "code",
   "execution_count": null,
   "metadata": {},
   "outputs": [],
   "source": [
    "import os\n",
    "from Auth.MsalWindowsAuthenticator import MsalWindowsAuthenticator\n",
    "\n",
    "CLIENT_ID = os.environ.get('CLIENT_ID')\n",
    "TENANT_ID = os.environ.get('TENANT_ID')\n",
    "SCOPES = [os.environ.get('SCOPE_USER')]\n",
    "\n",
    "winauth = MsalWindowsAuthenticator(CLIENT_ID, TENANT_ID, SCOPES)\n",
    "\n",
    "try:\n",
    "    wtoken = winauth.GetAuthtoken()\n",
    "    print(\"Token acquired successfully\")\n",
    "except Exception as e:\n",
    "    print(str(e))"
   ]
  },
  {
   "cell_type": "code",
   "execution_count": null,
   "metadata": {},
   "outputs": [],
   "source": [
    "from Client.OriginClient import OriginClient\n",
    "\n",
    "oclient = OriginClient(\"http://localhost:4002/graphql\", \"ws://localhost:4002/graphql\", winauth)\n",
    "\n",
    "query = \"\"\"\n",
    "    query getProjects {\n",
    "      projects {\n",
    "        Name\n",
    "      }\n",
    "    }\n",
    "\"\"\"\n",
    "\n",
    "qresult = await oclient.QueryAsync(query)\n",
    "print(qresult)\n"
   ]
  },
  {
   "cell_type": "code",
   "execution_count": null,
   "metadata": {},
   "outputs": [],
   "source": [
    "import asyncio\n",
    "from asyncio import TaskGroup\n",
    "from DesignBehaviours.SpaceOutletsBehaviour import SpaceOutletsBehaviour\n",
    "\n",
    "spaceTypeBehaviour1 = SpaceOutletsBehaviour(oclient)\n",
    "subresult1 = spaceTypeBehaviour1.Start()\n",
    "\n",
    "oclient2 = OriginClient(\"http://localhost:4002/graphql\", \"ws://localhost:4002/graphql\", winauth)\n",
    "\n",
    "spaceTypeBehaviour2 = SpaceOutletsBehaviour(oclient2)\n",
    "subresult2 = spaceTypeBehaviour2.Start()\n",
    "\n",
    "try:\n",
    "    async with TaskGroup() as group:\n",
    "                # spawn some tasks\n",
    "                group.create_task(subresult1)\n",
    "                #group.create_task(subresult2)\n",
    "\n",
    "                await asyncio.sleep(1000)\n",
    "                raise Exception(\"Tasks timed out\")\n",
    "except Exception as e:\n",
    "        print(e)\n",
    "        pass\n",
    "\n",
    "await oclient.Close()\n",
    "await oclient2.Close()"
   ]
  },
  {
   "cell_type": "code",
   "execution_count": null,
   "metadata": {},
   "outputs": [],
   "source": [
    "from Client.OriginQueries import Query\n",
    "\n",
    "projectID = await Query.GetProjectIdForSpaceId(\"<add a space id here>\", oclient)\n",
    "\n",
    "print(projectID)\n",
    "\n",
    "entityTypes = await Query.GetSocketTypesForProject(projectID, oclient)\n",
    "\n",
    "print(entityTypes)\n",
    "\n",
    "def get_id_by_name(entity_types, name):\n",
    "    for entity in entity_types:\n",
    "        if entity['Name'] == name:\n",
    "            return entity['Id']\n",
    "    return None \n",
    "\n",
    "typeId_230vsocket =  get_id_by_name(entityTypes, \"230v Single Socket Non Essential\")\n",
    "\n",
    "print(typeId_230vsocket)"
   ]
  }
 ],
 "metadata": {
  "kernelspec": {
   "display_name": "Python 3",
   "language": "python",
   "name": "python3"
  },
  "language_info": {
   "codemirror_mode": {
    "name": "ipython",
    "version": 3
   },
   "file_extension": ".py",
   "mimetype": "text/x-python",
   "name": "python",
   "nbconvert_exporter": "python",
   "pygments_lexer": "ipython3",
   "version": "3.11.9"
  }
 },
 "nbformat": 4,
 "nbformat_minor": 2
}
